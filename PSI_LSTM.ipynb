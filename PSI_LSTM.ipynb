{
 "cells": [
  {
   "cell_type": "code",
   "execution_count": null,
   "metadata": {},
   "outputs": [],
   "source": [
    "### PSI Prediction in Singapore\n",
    "### Zahra Ebrahimi 07/26/2020\n",
    "### YapAiTek-Assessment"
   ]
  },
  {
   "cell_type": "code",
   "execution_count": 2,
   "metadata": {
    "colab": {},
    "colab_type": "code",
    "id": "QQDE0uSX1r_7"
   },
   "outputs": [],
   "source": [
    "import pandas as pd\n",
    "import numpy as np\n",
    "import csv\n",
    "import tensorflow as tf\n",
    "from sklearn.preprocessing import StandardScaler\n",
    "import matplotlib.pyplot as plt\n",
    "import matplotlib as mpl\n",
    "from sklearn.preprocessing import MinMaxScaler\n",
    "from tensorflow.keras.models import Sequential\n",
    "from tensorflow.keras.layers import Dense, LSTM, Bidirectional\n",
    "from tensorflow.keras.callbacks import TensorBoard, EarlyStopping"
   ]
  },
  {
   "cell_type": "code",
   "execution_count": 4,
   "metadata": {
    "colab": {
     "base_uri": "https://localhost:8080/",
     "height": 142
    },
    "colab_type": "code",
    "id": "dTTirnMA4c7q",
    "outputId": "4d928e64-59ff-47d4-b076-26f79c5267e4"
   },
   "outputs": [
    {
     "data": {
      "text/html": [
       "<div>\n",
       "<style scoped>\n",
       "    .dataframe tbody tr th:only-of-type {\n",
       "        vertical-align: middle;\n",
       "    }\n",
       "\n",
       "    .dataframe tbody tr th {\n",
       "        vertical-align: top;\n",
       "    }\n",
       "\n",
       "    .dataframe thead th {\n",
       "        text-align: right;\n",
       "    }\n",
       "</style>\n",
       "<table border=\"1\" class=\"dataframe\">\n",
       "  <thead>\n",
       "    <tr style=\"text-align: right;\">\n",
       "      <th></th>\n",
       "      <th>national</th>\n",
       "      <th>south</th>\n",
       "      <th>north</th>\n",
       "      <th>east</th>\n",
       "      <th>central</th>\n",
       "      <th>west</th>\n",
       "      <th>timestamp</th>\n",
       "    </tr>\n",
       "  </thead>\n",
       "  <tbody>\n",
       "    <tr>\n",
       "      <th>0</th>\n",
       "      <td>47</td>\n",
       "      <td>44</td>\n",
       "      <td>37</td>\n",
       "      <td>47</td>\n",
       "      <td>47</td>\n",
       "      <td>34</td>\n",
       "      <td>2016-02-07T18:00:00+08:00</td>\n",
       "    </tr>\n",
       "    <tr>\n",
       "      <th>1</th>\n",
       "      <td>59</td>\n",
       "      <td>57</td>\n",
       "      <td>54</td>\n",
       "      <td>59</td>\n",
       "      <td>57</td>\n",
       "      <td>56</td>\n",
       "      <td>2016-02-08T23:00:00+08:00</td>\n",
       "    </tr>\n",
       "    <tr>\n",
       "      <th>2</th>\n",
       "      <td>59</td>\n",
       "      <td>57</td>\n",
       "      <td>55</td>\n",
       "      <td>59</td>\n",
       "      <td>57</td>\n",
       "      <td>56</td>\n",
       "      <td>2016-02-09T01:00:00+08:00</td>\n",
       "    </tr>\n",
       "  </tbody>\n",
       "</table>\n",
       "</div>"
      ],
      "text/plain": [
       "   national  south  north  east  central  west                  timestamp\n",
       "0        47     44     37    47       47    34  2016-02-07T18:00:00+08:00\n",
       "1        59     57     54    59       57    56  2016-02-08T23:00:00+08:00\n",
       "2        59     57     55    59       57    56  2016-02-09T01:00:00+08:00"
      ]
     },
     "execution_count": 4,
     "metadata": {
      "tags": []
     },
     "output_type": "execute_result"
    }
   ],
   "source": [
    "psi_df = pd.read_csv('./PSI/psi_df_2016_2019.csv')\n",
    "psi_df.head(3)"
   ]
  },
  {
   "cell_type": "code",
   "execution_count": 5,
   "metadata": {
    "colab": {
     "base_uri": "https://localhost:8080/",
     "height": 34
    },
    "colab_type": "code",
    "id": "lCNUvwCOkXRK",
    "outputId": "22ad49ec-7a5b-48ef-a98e-0a835ae3901b"
   },
   "outputs": [
    {
     "name": "stdout",
     "output_type": "stream",
     "text": [
      "Min : 2016-02-07 18:00:00, Max : 2019-11-06 14:00:00\n"
     ]
    }
   ],
   "source": [
    "#Convert 'timestamp' column to date/time type\n",
    "#Use temporary dataframe for making a datetime column\n",
    "#Make datetime column\n",
    "\n",
    "columns_names = psi_df.keys().values.tolist()\n",
    "psi_df['year'] = psi_df['timestamp'].str[0:4].astype(int)\n",
    "psi_df['month'] = psi_df['timestamp'].str[5:7].astype(int)\n",
    "psi_df['day'] = psi_df['timestamp'].str[8:10].astype(int)\n",
    "psi_df['hour'] = psi_df['timestamp'].str[11:13].astype(int)\n",
    "psi_df['minute'] = psi_df['timestamp'].str[14:16].astype(int)\n",
    "psi_df['second'] = psi_df['timestamp'].str[17:19].astype(int)\n",
    "\n",
    "\n",
    "temp_datetime_df = psi_df.drop(columns=columns_names)  \n",
    "psi_df['datetime'] = pd.to_datetime(temp_datetime_df) \n",
    "\n",
    "temp_columns=['timestamp','year','month','day', 'hour','minute','second']\n",
    "psi_df = psi_df.drop(columns=temp_columns)\n",
    "print('Min : {}, Max : {}'.format(min(psi_df.datetime), max(psi_df.datetime)))"
   ]
  },
  {
   "cell_type": "code",
   "execution_count": 6,
   "metadata": {
    "colab": {
     "base_uri": "https://localhost:8080/",
     "height": 297
    },
    "colab_type": "code",
    "id": "jXaKwuZskng5",
    "outputId": "273a69f0-afaa-42c2-a694-139880580ec0"
   },
   "outputs": [
    {
     "data": {
      "text/html": [
       "<div>\n",
       "<style scoped>\n",
       "    .dataframe tbody tr th:only-of-type {\n",
       "        vertical-align: middle;\n",
       "    }\n",
       "\n",
       "    .dataframe tbody tr th {\n",
       "        vertical-align: top;\n",
       "    }\n",
       "\n",
       "    .dataframe thead th {\n",
       "        text-align: right;\n",
       "    }\n",
       "</style>\n",
       "<table border=\"1\" class=\"dataframe\">\n",
       "  <thead>\n",
       "    <tr style=\"text-align: right;\">\n",
       "      <th></th>\n",
       "      <th>national</th>\n",
       "      <th>south</th>\n",
       "      <th>north</th>\n",
       "      <th>east</th>\n",
       "      <th>central</th>\n",
       "      <th>west</th>\n",
       "    </tr>\n",
       "  </thead>\n",
       "  <tbody>\n",
       "    <tr>\n",
       "      <th>count</th>\n",
       "      <td>30022.000000</td>\n",
       "      <td>30022.000000</td>\n",
       "      <td>30022.000000</td>\n",
       "      <td>30022.000000</td>\n",
       "      <td>30022.000000</td>\n",
       "      <td>30022.000000</td>\n",
       "    </tr>\n",
       "    <tr>\n",
       "      <th>mean</th>\n",
       "      <td>50.502232</td>\n",
       "      <td>54.294351</td>\n",
       "      <td>54.003464</td>\n",
       "      <td>52.491007</td>\n",
       "      <td>52.885884</td>\n",
       "      <td>50.299014</td>\n",
       "    </tr>\n",
       "    <tr>\n",
       "      <th>std</th>\n",
       "      <td>13.107219</td>\n",
       "      <td>10.844489</td>\n",
       "      <td>10.991413</td>\n",
       "      <td>10.365553</td>\n",
       "      <td>11.832203</td>\n",
       "      <td>11.672157</td>\n",
       "    </tr>\n",
       "    <tr>\n",
       "      <th>min</th>\n",
       "      <td>13.000000</td>\n",
       "      <td>20.000000</td>\n",
       "      <td>19.000000</td>\n",
       "      <td>14.000000</td>\n",
       "      <td>13.000000</td>\n",
       "      <td>16.000000</td>\n",
       "    </tr>\n",
       "    <tr>\n",
       "      <th>25%</th>\n",
       "      <td>42.000000</td>\n",
       "      <td>50.000000</td>\n",
       "      <td>49.000000</td>\n",
       "      <td>47.000000</td>\n",
       "      <td>47.000000</td>\n",
       "      <td>43.000000</td>\n",
       "    </tr>\n",
       "    <tr>\n",
       "      <th>50%</th>\n",
       "      <td>53.000000</td>\n",
       "      <td>54.000000</td>\n",
       "      <td>55.000000</td>\n",
       "      <td>54.000000</td>\n",
       "      <td>54.000000</td>\n",
       "      <td>52.000000</td>\n",
       "    </tr>\n",
       "    <tr>\n",
       "      <th>75%</th>\n",
       "      <td>58.000000</td>\n",
       "      <td>59.000000</td>\n",
       "      <td>59.000000</td>\n",
       "      <td>58.000000</td>\n",
       "      <td>59.000000</td>\n",
       "      <td>57.000000</td>\n",
       "    </tr>\n",
       "    <tr>\n",
       "      <th>max</th>\n",
       "      <td>143.000000</td>\n",
       "      <td>154.000000</td>\n",
       "      <td>145.000000</td>\n",
       "      <td>131.000000</td>\n",
       "      <td>154.000000</td>\n",
       "      <td>143.000000</td>\n",
       "    </tr>\n",
       "  </tbody>\n",
       "</table>\n",
       "</div>"
      ],
      "text/plain": [
       "           national         south  ...       central          west\n",
       "count  30022.000000  30022.000000  ...  30022.000000  30022.000000\n",
       "mean      50.502232     54.294351  ...     52.885884     50.299014\n",
       "std       13.107219     10.844489  ...     11.832203     11.672157\n",
       "min       13.000000     20.000000  ...     13.000000     16.000000\n",
       "25%       42.000000     50.000000  ...     47.000000     43.000000\n",
       "50%       53.000000     54.000000  ...     54.000000     52.000000\n",
       "75%       58.000000     59.000000  ...     59.000000     57.000000\n",
       "max      143.000000    154.000000  ...    154.000000    143.000000\n",
       "\n",
       "[8 rows x 6 columns]"
      ]
     },
     "execution_count": 6,
     "metadata": {
      "tags": []
     },
     "output_type": "execute_result"
    }
   ],
   "source": [
    "psi_df.describe()"
   ]
  },
  {
   "cell_type": "code",
   "execution_count": 12,
   "metadata": {
    "colab": {
     "base_uri": "https://localhost:8080/",
     "height": 173
    },
    "colab_type": "code",
    "id": "kdUTO3W9rOg4",
    "outputId": "c768d32f-55e7-44b2-d8ef-61a8c86539ef"
   },
   "outputs": [
    {
     "data": {
      "text/html": [
       "<div>\n",
       "<style scoped>\n",
       "    .dataframe tbody tr th:only-of-type {\n",
       "        vertical-align: middle;\n",
       "    }\n",
       "\n",
       "    .dataframe tbody tr th {\n",
       "        vertical-align: top;\n",
       "    }\n",
       "\n",
       "    .dataframe thead th {\n",
       "        text-align: right;\n",
       "    }\n",
       "</style>\n",
       "<table border=\"1\" class=\"dataframe\">\n",
       "  <thead>\n",
       "    <tr style=\"text-align: right;\">\n",
       "      <th></th>\n",
       "      <th>national</th>\n",
       "      <th>south</th>\n",
       "      <th>north</th>\n",
       "      <th>east</th>\n",
       "      <th>central</th>\n",
       "      <th>west</th>\n",
       "    </tr>\n",
       "    <tr>\n",
       "      <th>datetime</th>\n",
       "      <th></th>\n",
       "      <th></th>\n",
       "      <th></th>\n",
       "      <th></th>\n",
       "      <th></th>\n",
       "      <th></th>\n",
       "    </tr>\n",
       "  </thead>\n",
       "  <tbody>\n",
       "    <tr>\n",
       "      <th>2016-02-07 18:00:00</th>\n",
       "      <td>47</td>\n",
       "      <td>44</td>\n",
       "      <td>37</td>\n",
       "      <td>47</td>\n",
       "      <td>47</td>\n",
       "      <td>34</td>\n",
       "    </tr>\n",
       "    <tr>\n",
       "      <th>2016-02-08 23:00:00</th>\n",
       "      <td>59</td>\n",
       "      <td>57</td>\n",
       "      <td>54</td>\n",
       "      <td>59</td>\n",
       "      <td>57</td>\n",
       "      <td>56</td>\n",
       "    </tr>\n",
       "    <tr>\n",
       "      <th>2016-02-09 01:00:00</th>\n",
       "      <td>59</td>\n",
       "      <td>57</td>\n",
       "      <td>55</td>\n",
       "      <td>59</td>\n",
       "      <td>57</td>\n",
       "      <td>56</td>\n",
       "    </tr>\n",
       "  </tbody>\n",
       "</table>\n",
       "</div>"
      ],
      "text/plain": [
       "                     national  south  north  east  central  west\n",
       "datetime                                                        \n",
       "2016-02-07 18:00:00        47     44     37    47       47    34\n",
       "2016-02-08 23:00:00        59     57     54    59       57    56\n",
       "2016-02-09 01:00:00        59     57     55    59       57    56"
      ]
     },
     "execution_count": 12,
     "metadata": {
      "tags": []
     },
     "output_type": "execute_result"
    }
   ],
   "source": [
    "psi_df= psi_df.set_index(\"datetime\") # set 'datetime' column for better management of time series \n",
    "psi_df.head(3)"
   ]
  },
  {
   "cell_type": "code",
   "execution_count": 14,
   "metadata": {
    "colab": {
     "base_uri": "https://localhost:8080/",
     "height": 312
    },
    "colab_type": "code",
    "id": "ERs6ji0t4niu",
    "outputId": "aa916cac-d4fa-4a9d-fde6-c0fb58060072"
   },
   "outputs": [
    {
     "data": {
      "text/plain": [
       "<matplotlib.axes._subplots.AxesSubplot at 0x7f79ea31bc50>"
      ]
     },
     "execution_count": 14,
     "metadata": {
      "tags": []
     },
     "output_type": "execute_result"
    },
    {
     "data": {
      "image/png": "[encoded data removed]",
      "text/plain": [
       "<Figure size 432x288 with 1 Axes>"
      ]
     },
     "metadata": {
      "needs_background": "light",
      "tags": []
     },
     "output_type": "display_data"
    }
   ],
   "source": [
    "psi_week=psi_df['2016':].resample('w').mean().national # resample by 'national' column week to week data\n",
    "psi_week.plot(ylim=[0,140])"
   ]
  },
  {
   "cell_type": "code",
   "execution_count": 17,
   "metadata": {
    "colab": {
     "base_uri": "https://localhost:8080/",
     "height": 312
    },
    "colab_type": "code",
    "id": "pW8Lac4mk1ot",
    "outputId": "eb02b2a5-76ee-4bfe-ec36-4b30d8b06813"
   },
   "outputs": [
    {
     "data": {
      "text/plain": [
       "<matplotlib.axes._subplots.AxesSubplot at 0x7f79e9c64128>"
      ]
     },
     "execution_count": 17,
     "metadata": {
      "tags": []
     },
     "output_type": "execute_result"
    },
    {
     "data": {
      "image/png": "[encoded data removed]",
      "text/plain": [
       "<Figure size 432x288 with 1 Axes>"
      ]
     },
     "metadata": {
      "needs_background": "light",
      "tags": []
     },
     "output_type": "display_data"
    }
   ],
   "source": [
    "psi_day=psi_df['2016':].resample('D').mean().national # resample by 'national' column day to day data\n",
    "psi_day.plot(ylim=[0,140])"
   ]
  },
  {
   "cell_type": "code",
   "execution_count": 18,
   "metadata": {
    "colab": {
     "base_uri": "https://localhost:8080/",
     "height": 312
    },
    "colab_type": "code",
    "id": "ldQUpTRGk2bD",
    "outputId": "56517f91-6361-435c-d49e-c15c256f71c3"
   },
   "outputs": [
    {
     "data": {
      "text/plain": [
       "<matplotlib.axes._subplots.AxesSubplot at 0x7f79e9b49dd8>"
      ]
     },
     "execution_count": 18,
     "metadata": {
      "tags": []
     },
     "output_type": "execute_result"
    },
    {
     "data": {
      "image/png": "[encoded data removed]",
      "text/plain": [
       "<Figure size 432x288 with 1 Axes>"
      ]
     },
     "metadata": {
      "needs_background": "light",
      "tags": []
     },
     "output_type": "display_data"
    }
   ],
   "source": [
    "psi_day_all=psi_df['2016':].resample('D').mean() # resample by all columns day to day data\n",
    "psi_day_all.plot(ylim=[0,140])"
   ]
  },
  {
   "cell_type": "code",
   "execution_count": 19,
   "metadata": {
    "colab": {
     "base_uri": "https://localhost:8080/",
     "height": 136
    },
    "colab_type": "code",
    "id": "IokLbn1Uk2lO",
    "outputId": "ff0d4ad9-d52f-4070-fe32-07c3a4627459"
   },
   "outputs": [
    {
     "data": {
      "text/plain": [
       "national    0\n",
       "south       0\n",
       "north       0\n",
       "east        0\n",
       "central     0\n",
       "west        0\n",
       "dtype: int64"
      ]
     },
     "execution_count": 19,
     "metadata": {
      "tags": []
     },
     "output_type": "execute_result"
    }
   ],
   "source": [
    "psi_day_all= psi_day_all.dropna()\n",
    "psi_day_all.isnull().sum()"
   ]
  },
  {
   "cell_type": "code",
   "execution_count": 20,
   "metadata": {
    "colab": {},
    "colab_type": "code",
    "id": "6mR2fR5kk2oc"
   },
   "outputs": [],
   "source": [
    "# Making model based on 4 days prediction just for 'national' column\n",
    "# You can use any other column base on your priority\n",
    "train_data= psi_day_all\n",
    "X_length = 4 \n",
    "X_y = np.zeros((train_data.shape[0] - X_length, X_length + 1))\n",
    "for i in range(X_y.shape[0]):\n",
    "    X_y[i, :] = train_data['national'].to_numpy()[i:i + X_length + 1]"
   ]
  },
  {
   "cell_type": "code",
   "execution_count": 21,
   "metadata": {
    "colab": {
     "base_uri": "https://localhost:8080/",
     "height": 34
    },
    "colab_type": "code",
    "id": "uzNqUZfxlPWR",
    "outputId": "1df1becb-e43f-40fe-8f41-0743fc30d0b5"
   },
   "outputs": [
    {
     "name": "stdout",
     "output_type": "stream",
     "text": [
      "1081 train + 270 test\n"
     ]
    }
   ],
   "source": [
    "# Split train and test sets\n",
    "test_ratio = 0.2\n",
    "indices = np.arange(start=0, stop=X_y.shape[0])\n",
    "test_set_size = int(X_y.shape[0] * test_ratio)\n",
    "train_index = np.sort(indices[:-test_set_size])\n",
    "test_index = np.sort(indices[-test_set_size:])\n",
    "\n",
    "train_data = X_y[train_index, :]\n",
    "test_data = X_y[test_index, :]\n",
    "\n",
    "print(train_data.shape[0], \"train +\", test_data.shape[0], \"test\")\n",
    "\n",
    "# np.save('./PSI/train_data', train_data)\n",
    "# np.save('./PSI/test_data', test_data)\n",
    "y_train = train_data[:, -1]\n",
    "X_train = train_data[:, :-1]"
   ]
  },
  {
   "cell_type": "code",
   "execution_count": 22,
   "metadata": {
    "colab": {},
    "colab_type": "code",
    "id": "9ACly1MflPev"
   },
   "outputs": [],
   "source": [
    "# All training data is used to set Min and Max Parameters\n",
    "\n",
    "scaler = MinMaxScaler(feature_range=(-1, 1))\n",
    "scaler.fit(train_data.reshape(-1, 1))  \n",
    "X_train_normalized = scaler.transform(X_train)\n",
    "y_train_normalized = scaler.transform(y_train.reshape(-1, 1))"
   ]
  },
  {
   "cell_type": "code",
   "execution_count": 23,
   "metadata": {
    "colab": {},
    "colab_type": "code",
    "id": "70Ewp788lPiw"
   },
   "outputs": [],
   "source": [
    "# Split train and validation sets\n",
    "np.random.seed(123)\n",
    "val_ratio = 0.1\n",
    "indices = np.random.permutation(X_train_normalized.shape[0])\n",
    "val_set_size = int(X_train_normalized.shape[0] * val_ratio)\n",
    "train_indices = np.sort(indices[:-val_set_size])\n",
    "val_indices = np.sort(indices[-val_set_size:])\n",
    "\n",
    "X_val = X_train_normalized[val_indices, :]\n",
    "y_val = y_train_normalized[val_indices, :]\n",
    "X_train = X_train_normalized[train_indices, :]\n",
    "y_train = y_train_normalized[train_indices, :]"
   ]
  },
  {
   "cell_type": "code",
   "execution_count": 24,
   "metadata": {
    "colab": {},
    "colab_type": "code",
    "id": "a8UJFDhL54km"
   },
   "outputs": [],
   "source": [
    "n_steps = 4\n",
    "# reshape from [samples, timesteps] into [samples, timesteps, features] to make 3 dimentions \n",
    "n_features = 1\n",
    "X_train = X_train.reshape((X_train.shape[0], X_train.shape[1], n_features))\n",
    "X_val = X_val.reshape((X_val.shape[0], X_val.shape[1], n_features))"
   ]
  },
  {
   "cell_type": "code",
   "execution_count": 63,
   "metadata": {
    "colab": {},
    "colab_type": "code",
    "id": "lUu8XbDBi_to"
   },
   "outputs": [],
   "source": [
    "# define model\n",
    "model = Sequential()\n",
    "model.add(Bidirectional(LSTM(30, activation='relu'), input_shape=(n_steps, n_features)))\n",
    "model.add(Dense(1))\n",
    "model.compile(optimizer='adam', loss='mse')"
   ]
  },
  {
   "cell_type": "code",
   "execution_count": 64,
   "metadata": {
    "colab": {
     "base_uri": "https://localhost:8080/",
     "height": 221
    },
    "colab_type": "code",
    "id": "e9cIysaZ58JN",
    "outputId": "0108dcfd-d1f1-4b7f-e574-850e5dc61fbe"
   },
   "outputs": [
    {
     "name": "stdout",
     "output_type": "stream",
     "text": [
      "Model: \"sequential_1\"\n",
      "_________________________________________________________________\n",
      "Layer (type)                 Output Shape              Param #   \n",
      "=================================================================\n",
      "bidirectional_1 (Bidirection (None, 60)                7680      \n",
      "_________________________________________________________________\n",
      "dense_1 (Dense)              (None, 1)                 61        \n",
      "=================================================================\n",
      "Total params: 7,741\n",
      "Trainable params: 7,741\n",
      "Non-trainable params: 0\n",
      "_________________________________________________________________\n"
     ]
    }
   ],
   "source": [
    "model.summary()"
   ]
  },
  {
   "cell_type": "code",
   "execution_count": 65,
   "metadata": {
    "colab": {
     "base_uri": "https://localhost:8080/",
     "height": 935
    },
    "colab_type": "code",
    "id": "5O-vntoCzB68",
    "outputId": "6bfa6399-d119-4747-d269-a3cf382baca3"
   },
   "outputs": [
    {
     "name": "stdout",
     "output_type": "stream",
     "text": [
      "Epoch 1/100\n",
      "31/31 [==============================] - 1s 18ms/step - loss: 0.1288 - val_loss: 0.0513\n",
      "Epoch 2/100\n",
      "31/31 [==============================] - 0s 5ms/step - loss: 0.0347 - val_loss: 0.0250\n",
      "Epoch 3/100\n",
      "31/31 [==============================] - 0s 5ms/step - loss: 0.0260 - val_loss: 0.0222\n",
      "Epoch 4/100\n",
      "31/31 [==============================] - 0s 4ms/step - loss: 0.0246 - val_loss: 0.0217\n",
      "Epoch 5/100\n",
      "31/31 [==============================] - 0s 5ms/step - loss: 0.0238 - val_loss: 0.0213\n",
      "Epoch 6/100\n",
      "31/31 [==============================] - 0s 5ms/step - loss: 0.0229 - val_loss: 0.0209\n",
      "Epoch 7/100\n",
      "31/31 [==============================] - 0s 5ms/step - loss: 0.0226 - val_loss: 0.0205\n",
      "Epoch 8/100\n",
      "31/31 [==============================] - 0s 5ms/step - loss: 0.0220 - val_loss: 0.0205\n",
      "Epoch 9/100\n",
      "31/31 [==============================] - 0s 5ms/step - loss: 0.0216 - val_loss: 0.0202\n",
      "Epoch 10/100\n",
      "31/31 [==============================] - 0s 5ms/step - loss: 0.0211 - val_loss: 0.0192\n",
      "Epoch 11/100\n",
      "31/31 [==============================] - 0s 5ms/step - loss: 0.0208 - val_loss: 0.0190\n",
      "Epoch 12/100\n",
      "31/31 [==============================] - 0s 5ms/step - loss: 0.0204 - val_loss: 0.0182\n",
      "Epoch 13/100\n",
      "31/31 [==============================] - 0s 5ms/step - loss: 0.0200 - val_loss: 0.0179\n",
      "Epoch 14/100\n",
      "31/31 [==============================] - 0s 5ms/step - loss: 0.0196 - val_loss: 0.0176\n",
      "Epoch 15/100\n",
      "31/31 [==============================] - 0s 5ms/step - loss: 0.0195 - val_loss: 0.0180\n",
      "Epoch 16/100\n",
      "31/31 [==============================] - 0s 5ms/step - loss: 0.0190 - val_loss: 0.0177\n",
      "Epoch 17/100\n",
      "31/31 [==============================] - 0s 5ms/step - loss: 0.0187 - val_loss: 0.0185\n",
      "Epoch 18/100\n",
      "31/31 [==============================] - 0s 5ms/step - loss: 0.0186 - val_loss: 0.0174\n",
      "Epoch 19/100\n",
      "31/31 [==============================] - 0s 5ms/step - loss: 0.0183 - val_loss: 0.0175\n",
      "Epoch 20/100\n",
      "31/31 [==============================] - 0s 4ms/step - loss: 0.0183 - val_loss: 0.0173\n",
      "Epoch 21/100\n",
      "31/31 [==============================] - 0s 4ms/step - loss: 0.0182 - val_loss: 0.0176\n",
      "Epoch 22/100\n",
      "31/31 [==============================] - 0s 5ms/step - loss: 0.0182 - val_loss: 0.0171\n",
      "Epoch 23/100\n",
      "31/31 [==============================] - 0s 4ms/step - loss: 0.0181 - val_loss: 0.0189\n",
      "Epoch 24/100\n",
      "31/31 [==============================] - 0s 4ms/step - loss: 0.0182 - val_loss: 0.0183\n",
      "Epoch 25/100\n",
      "31/31 [==============================] - 0s 5ms/step - loss: 0.0179 - val_loss: 0.0175\n",
      "Epoch 26/100\n",
      "31/31 [==============================] - 0s 4ms/step - loss: 0.0178 - val_loss: 0.0187\n",
      "Epoch 27/100\n",
      "31/31 [==============================] - 0s 4ms/step - loss: 0.0179 - val_loss: 0.0202\n"
     ]
    }
   ],
   "source": [
    "# use tensorboard to view metrics\n",
    "tensorboard = TensorBoard(log_dir=\"logs\")\n",
    "# define early stopping to stop training after 5 epochs of not improving\n",
    "early_stopping = EarlyStopping(mode=\"min\", patience=5, restore_best_weights=True)\n",
    "\n",
    "batch_size = 32\n",
    "epochs = 100\n",
    "# train the model using the training set and validating using validation set\n",
    "history= model.fit(X_train, y_train, epochs=epochs, batch_size=batch_size, validation_data=(X_val, y_val),callbacks=[tensorboard, early_stopping])"
   ]
  },
  {
   "cell_type": "code",
   "execution_count": 66,
   "metadata": {
    "colab": {
     "base_uri": "https://localhost:8080/",
     "height": 312
    },
    "colab_type": "code",
    "id": "SCZEJjEl3WpM",
    "outputId": "df2b040d-1d67-4c39-fa55-f818969baf00"
   },
   "outputs": [
    {
     "data": {
      "text/plain": [
       "Text(0, 0.5, 'MSE Loss')"
      ]
     },
     "execution_count": 66,
     "metadata": {
      "tags": []
     },
     "output_type": "execute_result"
    },
    {
     "data": {
      "image/png": "[encoded data removed]",
      "text/plain": [
       "<Figure size 432x288 with 1 Axes>"
      ]
     },
     "metadata": {
      "needs_background": "light",
      "tags": []
     },
     "output_type": "display_data"
    }
   ],
   "source": [
    "#Plot Training & Validation loss\n",
    "history_dict=history.history\n",
    "loss_values= history_dict['loss']\n",
    "val_loss_values= history_dict['val_loss']\n",
    "epochss= range(1, len(loss_values)+1)\n",
    "\n",
    "plt.plot(epochss , loss_values, 'b' , label= 'Training loss')\n",
    "plt.plot(epochss , val_loss_values, 'grey' , label= 'Validation loss')\n",
    "plt.title('Training & Validation loss')\n",
    "\n",
    "plt.xlabel('Epoch number')\n",
    "plt.ylabel('MSE Loss')"
   ]
  },
  {
   "cell_type": "code",
   "execution_count": 67,
   "metadata": {
    "colab": {
     "base_uri": "https://localhost:8080/",
     "height": 34
    },
    "colab_type": "code",
    "id": "WqbGXWipmWpr",
    "outputId": "6eceb39a-b5ba-4246-b288-10febd073e6a"
   },
   "outputs": [
    {
     "data": {
      "text/plain": [
       "0.14591769955922781"
      ]
     },
     "execution_count": 67,
     "metadata": {
      "tags": []
     },
     "output_type": "execute_result"
    }
   ],
   "source": [
    "# preparing Data and Label for test set\n",
    "# Normalize test set with Scaler fitted with train data\n",
    "# demonstrate prediction\n",
    "\n",
    "y_test = test_data[:, -1]\n",
    "X_test = test_data[:, :-1]\n",
    "\n",
    "X_test_normalized = scaler.transform(X_test)\n",
    "y_test_normalized = scaler.transform(y_test.reshape(-1, 1))\n",
    "\n",
    "y_pred = np.zeros_like(y_test_normalized)\n",
    "\n",
    "x_input = X_test_normalized.reshape((X_test_normalized.shape[0], n_steps, n_features))\n",
    "y_pred = model.predict(x_input, verbose=0)\n",
    "\n",
    "err = y_test_normalized - y_pred\n",
    "# Root Mean Square Error\n",
    "RMSE = np.sqrt(np.mean(np.power(err, 2)))\n",
    "RMSE"
   ]
  },
  {
   "cell_type": "code",
   "execution_count": 68,
   "metadata": {
    "colab": {},
    "colab_type": "code",
    "id": "S3NjvhIzmxFe"
   },
   "outputs": [],
   "source": [
    "#Function to prepare and test a new sample\n",
    "def predict_psi_level(X, model, scaler):\n",
    "    # Normalize test set with Scaler fitted with train data\n",
    "    X_normalized = scaler.transform(X.reshape(-1, 1))\n",
    "    # Reshape matrix to 3 dimentions data\n",
    "    x_input = X_normalized.reshape(1, n_steps, n_features)\n",
    "    # Prediction\n",
    "    prediction_normalized = model.predict(x_input, verbose=0) \n",
    "    # Inverse of Normalization\n",
    "    prediction = np.squeeze(scaler.inverse_transform(prediction_normalized.reshape(-1, 1)))\n",
    "    psi_bands = np.array([0., 56., 150., 250])\n",
    "    psi_levels = ['Normal', 'Elevated', 'High', 'Very high']\n",
    "    return psi_levels[np.argwhere(prediction >= psi_bands)[-1][0]]"
   ]
  },
  {
   "cell_type": "code",
   "execution_count": 69,
   "metadata": {
    "colab": {
     "base_uri": "https://localhost:8080/",
     "height": 35
    },
    "colab_type": "code",
    "id": "Up2bESiBmx5N",
    "outputId": "1cecb12f-4495-4863-9353-bc20367182f8"
   },
   "outputs": [
    {
     "data": {
      "application/vnd.google.colaboratory.intrinsic+json": {
       "type": "string"
      },
      "text/plain": [
       "'Normal'"
      ]
     },
     "execution_count": 69,
     "metadata": {
      "tags": []
     },
     "output_type": "execute_result"
    }
   ],
   "source": [
    "i_sample = 5\n",
    "X = test_data[i_sample, :-1]\n",
    "\n",
    "PSI_level = predict_psi_level(X, model, scaler)\n",
    "PSI_level"
   ]
  }
 ],
 "metadata": {
  "colab": {
   "collapsed_sections": [],
   "name": "PSI_LSTM.ipynb",
   "provenance": []
  },
  "kernelspec": {
   "display_name": "Python 3",
   "language": "python",
   "name": "python3"
  },
  "language_info": {
   "codemirror_mode": {
    "name": "ipython",
    "version": 3
   },
   "file_extension": ".py",
   "mimetype": "text/x-python",
   "name": "python",
   "nbconvert_exporter": "python",
   "pygments_lexer": "ipython3",
   "version": "3.7.4"
  }
 },
 "nbformat": 4,
 "nbformat_minor": 1
}
